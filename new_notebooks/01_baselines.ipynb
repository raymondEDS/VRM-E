{
 "cells": [
  {
   "cell_type": "markdown",
   "id": "8859f6a3",
   "metadata": {},
   "source": [
    "# Imports and loading data"
   ]
  },
  {
   "cell_type": "code",
   "execution_count": 1,
   "id": "fece34eb",
   "metadata": {},
   "outputs": [],
   "source": [
    "from copy import deepcopy\n",
    "from matplotlib import pyplot as plt\n",
    "import numpy as np\n",
    "import pandas as pd\n",
    "import seaborn as sns\n",
    "import statistics\n",
    "from sklearn.linear_model import LogisticRegression\n",
    "from sklearn.pipeline import Pipeline\n",
    "from sklearn.model_selection import GridSearchCV, StratifiedKFold, StratifiedShuffleSplit\n",
    "from sklearn.metrics import (\n",
    "    f1_score,\n",
    "    accuracy_score,\n",
    "    roc_auc_score,\n",
    "    average_precision_score,\n",
    ")\n",
    "\n",
    "import vrme_lib\n",
    "\n",
    "df_embeddings, df_submissions, df_submission_labels, df_embeddings_2017, df_embeddings_2018 = vrme_lib.load_data()"
   ]
  },
  {
   "cell_type": "markdown",
   "id": "c2af0100",
   "metadata": {},
   "source": [
    "# Naive Difference in Means Estimator\n",
    "\n"
   ]
  },
  {
   "cell_type": "code",
   "execution_count": 2,
   "id": "6db83644",
   "metadata": {},
   "outputs": [
    {
     "name": "stdout",
     "output_type": "stream",
     "text": [
      "Naive ATC: -0.2538\n",
      "Naive CI: [-0.3949, -0.1135]\n",
      "Naive CI range: 0.2814\n"
     ]
    }
   ],
   "source": [
    "bootstrap_naive_mean = []\n",
    "\n",
    "for n in range(5000):\n",
    "    sample_2017 = df_embeddings_2017.AVG_rating.sample(n=df_embeddings_2017.shape[0], replace = True ,random_state=n)\n",
    "    sample_2018 = df_embeddings_2018.AVG_rating.sample(n=df_embeddings_2018.shape[0], replace = True ,random_state=n)\n",
    "    \n",
    "    sample_diff = sample_2018.mean() - sample_2017.mean()\n",
    "    \n",
    "    bootstrap_naive_mean.append(sample_diff)\n",
    "    \n",
    "vrme_lib.print_results(name=\"Naive\",\n",
    "                      atc=statistics.mean(bootstrap_naive_mean),\n",
    "                      ci_lower_bound=np.quantile(bootstrap_naive_mean, 0.025),\n",
    "                      ci_upper_bound=np.quantile(bootstrap_naive_mean, 0.975))"
   ]
  },
  {
   "cell_type": "markdown",
   "id": "d9f6b658",
   "metadata": {},
   "source": [
    "# Stratified Propensity Score Matching"
   ]
  },
  {
   "cell_type": "code",
   "execution_count": 3,
   "id": "ae1ad350",
   "metadata": {},
   "outputs": [
    {
     "name": "stdout",
     "output_type": "stream",
     "text": [
      "Bootstrap SPSM ATC: -0.26\n",
      "Bootstrap SPSM CI: [0.14, 0.38]\n",
      "Bootstrap SPSM CI range: -0.24\n"
     ]
    }
   ],
   "source": [
    "def get_strata(prob_t_score, num_strata): \n",
    "    \"\"\"\n",
    "    Reports the strata given the probability score \n",
    "    \n",
    "    Strata index starts at 1 \n",
    "    \"\"\"\n",
    "    strata = np.arange(0, 1.0, 1.0/num_strata)\n",
    "    return np.digitize(prob_t_score, strata, right=False)\n",
    "\n",
    "df_embeddings = df_embeddings.merge(df_submission_labels[df_submission_labels['conf_year'].isin([2017,2018])], left_on='paper_id',right_on='id')\n",
    "df_embeddings['treatment'] = df_embeddings['conf_year'].replace([2017,2018],[1,0])\n",
    "\n",
    "E = np.array([np.array(embedding) for embedding in df_embeddings.embedding.to_list()])\n",
    "T = np.array(df_embeddings.treatment.to_list())\n",
    "paper_id = np.array(df_embeddings.id.to_list())\n",
    "\n",
    "assert E.shape[0] == T.shape[0] == df_embeddings.shape[0] == paper_id.shape[0]\n",
    "\n",
    "n_total = df_embeddings.shape[0]\n",
    "docids = paper_id\n",
    "\n",
    "assert n_total == docids.shape[0] == T.shape[0]\n",
    "    \n",
    "    \n",
    "NUM_CROSSFIT_SPLITS = 2\n",
    "NUM_CROSSVAL_SPLITS = 4 \n",
    "RANDOM_STATE = 42 #for replication \n",
    "\n",
    "CLASSIFIER = Pipeline([(\n",
    "            \"model\",\n",
    "            LogisticRegression(\n",
    "                l1_ratio=0.1,\n",
    "                solver=\"saga\",\n",
    "                max_iter=20000,\n",
    "                tol=1e-3, \n",
    "                penalty=\"elasticnet\",\n",
    "                dual=False,\n",
    "                class_weight=\"balanced\",\n",
    "                random_state=42,\n",
    "                ),),])\n",
    "\n",
    "CLASSIFIER_GRID = {\n",
    "    \"model__C\": [1e-4, 1e-3, 1e-2, 1e-1, 1e0, 1e1],\n",
    "}\n",
    "\n",
    "#Note: May take awhile to run\n",
    "prob_t_training = np.array([np.nan]*n_total) #only for reporting training acc numbers \n",
    "prob_t_inference = np.array([np.nan]*n_total) #array to save predicted propensity scores \n",
    "# Crossfitting \n",
    "\n",
    "\n",
    "crossfit_split = list(StratifiedKFold(n_splits=NUM_CROSSFIT_SPLITS, shuffle=True, random_state=RANDOM_STATE).split(E, T))\n",
    "for crossfit_number, (train_inds, test_inds) in enumerate(crossfit_split):\n",
    "    inner_cv = StratifiedShuffleSplit(\n",
    "                n_splits=NUM_CROSSVAL_SPLITS,\n",
    "                test_size=1/NUM_CROSSVAL_SPLITS,\n",
    "                random_state= RANDOM_STATE,\n",
    "            )\n",
    "    \n",
    "    t_model_gridsearch = GridSearchCV(\n",
    "                        estimator=deepcopy(CLASSIFIER),\n",
    "                        param_grid=deepcopy(CLASSIFIER_GRID),\n",
    "                        cv=inner_cv,\n",
    "                        scoring=\"roc_auc\",\n",
    "                        refit=True,\n",
    "                    )\n",
    "    \n",
    "    t_model_gridsearch.fit(E[train_inds], T[train_inds])\n",
    "    prob_t_training[train_inds] = t_model_gridsearch.predict_proba(E[train_inds])[:, 1]\n",
    "        \n",
    "    # Inference\n",
    "    # Probability of T=1\n",
    "    prop_t = t_model_gridsearch.predict_proba(E[test_inds])[:, 1]\n",
    "    prob_t_inference[test_inds] = prop_t\n",
    "\n",
    "assert np.mean(np.isnan(prob_t_training)) == 0.0\n",
    "assert np.mean(np.isnan(prob_t_inference)) == 0.0\n",
    "\n",
    "# Training metrics \n",
    "pred_model_report_out = {}\n",
    "\n",
    "# these classification metrics need the \"hard\" predictions, e.g. y=[0, 0, 1, ...]\n",
    "class_hard_name2metric_func = {\n",
    "    \"f1\": f1_score,\n",
    "    \"acc\": accuracy_score,\n",
    "    \"mean_hard_pred\": vrme_lib.mean_predictions,\n",
    "    \"mean_true\": vrme_lib.mean_truth,  # should be same for hard or soft\n",
    "}\n",
    "\n",
    "# these classification metrics need the \"score\" predictions, e.g. y=[0.6, 0.77, 0.2, ...]\n",
    "class_scores_name2metric_func = {\n",
    "    \"roc_auc\": roc_auc_score,\n",
    "    \"ave_prec\": average_precision_score,\n",
    "    \"calibration_rmse\": vrme_lib.calibration_rmse,\n",
    "    \"mean_soft_pred\": vrme_lib.mean_predictions,\n",
    "    \"mean_true\": vrme_lib.mean_truth,  # should be same for hard or soft\n",
    "}\n",
    "\n",
    "#hard classifications\n",
    "t_pred_hard = (prob_t_training > 0.5).astype(int)\n",
    "\n",
    "assert t_pred_hard.shape == prob_t_training.shape == T.shape\n",
    "\n",
    "NUM_STRATA = 5   \n",
    "docid2strata = {}\n",
    "for docid, prob_t_score in zip(docids, prob_t_inference): \n",
    "    strata_inferred = get_strata(prob_t_score, NUM_STRATA)\n",
    "    docid2strata[docid] = (strata_inferred, prob_t_score)\n",
    "data = []\n",
    "for x in docid2strata.items():\n",
    "    input_row = {}\n",
    "    input_row['paperID'] = x[0]\n",
    "    input_row['strata'] = x[1][0]\n",
    "    input_row['pscore'] = x[1][1]\n",
    "    data.append(input_row)\n",
    "\n",
    "\n",
    "df_paper_strata = df_embeddings.merge(pd.DataFrame(data), left_on='paper_id',right_on='paperID')[['paper_id','title','strata','keywords','pscore','treatment','AVG_rating','conf_year']]\n",
    "df_paper_strata['transformed_keywords'] = df_paper_strata.apply(lambda x: vrme_lib.strip_char(x), axis = 1)\n",
    "\n",
    "\n",
    "boostrap_SPSM = []\n",
    "for n in range(5001):\n",
    "    sample = df_paper_strata[df_paper_strata['treatment'] ==1].sample(n=490, replace = True ,random_state=n)\n",
    "\n",
    "    strata_2_weight = sample[(sample['strata'] ==2) & (sample['treatment'] ==1)].shape[0]/490\n",
    "\n",
    "    strata_3_weight = sample[(sample['strata'] ==3) & (sample['treatment'] ==1)].shape[0]/490\n",
    "\n",
    "    strata_4_weight = sample[(sample['strata'] ==4) & (sample['treatment'] ==1)].shape[0]/490\n",
    "\n",
    "    strat_2_treated = sample[(sample['strata'] ==2) & (sample['treatment'] ==1)]['AVG_rating'].mean()\n",
    "    strat_2_control = df_paper_strata[(df_paper_strata['strata'] ==2) & (df_paper_strata['treatment'] ==0)]['AVG_rating'].mean()\n",
    "    \n",
    "    strat_3_treated = sample[(sample['strata'] ==3) & (sample['treatment'] ==1)]['AVG_rating'].mean()\n",
    "    strat_3_control = df_paper_strata[(df_paper_strata['strata'] ==3) & (df_paper_strata['treatment'] ==0)]['AVG_rating'].mean()\n",
    "    \n",
    "    strat_4_treated = sample[(sample['strata'] ==4) & (sample['treatment'] ==1)]['AVG_rating'].mean()\n",
    "    strat_4_control = df_paper_strata[(df_paper_strata['strata'] ==4) & (df_paper_strata['treatment'] ==0)]['AVG_rating'].mean()\n",
    "\n",
    "    ATT = (strat_4_treated - strat_4_control)* strata_4_weight + (strat_3_treated - strat_3_control)* strata_3_weight + (strat_2_treated - strat_2_control)* strata_2_weight\n",
    "    boostrap_SPSM.append(ATT)\n",
    "    \n",
    "SPSM_mean = np.nanmean(boostrap_SPSM)\n",
    "\n",
    "vrme_lib.print_results(name=\"Bootstrap SPSM\",\n",
    "                      atc=round(-SPSM_mean,2),\n",
    "                      ci_lower_bound=round(np.nanquantile(boostrap_SPSM, 0.025),2),\n",
    "                      ci_upper_bound=round(np.nanquantile(boostrap_SPSM, 0.975),2))\n"
   ]
  },
  {
   "cell_type": "markdown",
   "id": "d7b3d4f5",
   "metadata": {},
   "source": [
    "# Propensity score distribution"
   ]
  },
  {
   "cell_type": "code",
   "execution_count": 4,
   "id": "58a03c8e",
   "metadata": {},
   "outputs": [
    {
     "data": {
      "image/png": "[encoded data removed]",
      "text/plain": [
       "<Figure size 1200x300 with 1 Axes>"
      ]
     },
     "metadata": {},
     "output_type": "display_data"
    }
   ],
   "source": [
    "sns.displot(df_paper_strata,x='pscore',kind='kde',fill=True, height=3, aspect=4)\n",
    "plt.xlim(0,1)\n",
    "plt.axvline(0., alpha=0.2,color='r')\n",
    "for x in np.arange(0, 1.2, 0.2):\n",
    "  plt.axvline(x, alpha=0.2,color='r', linestyle = 'dashed')\n",
    "plt.xlabel('Propensity Score')\n",
    "plt.title('Stratified Propensity Distribution')\n",
    "plt.tight_layout()\n",
    "plt.savefig('propensity_scores_SPSM.png')"
   ]
  }
 ],
 "metadata": {
  "kernelspec": {
   "display_name": "Python 3 (ipykernel)",
   "language": "python",
   "name": "python3"
  },
  "language_info": {
   "codemirror_mode": {
    "name": "ipython",
    "version": 3
   },
   "file_extension": ".py",
   "mimetype": "text/x-python",
   "name": "python",
   "nbconvert_exporter": "python",
   "pygments_lexer": "ipython3",
   "version": "3.8.16"
  }
 },
 "nbformat": 4,
 "nbformat_minor": 5
}
