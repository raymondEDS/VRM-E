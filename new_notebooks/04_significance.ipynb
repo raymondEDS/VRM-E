{
 "cells": [
  {
   "cell_type": "markdown",
   "id": "bbd81dc1",
   "metadata": {},
   "source": [
    "# Imports and loading data"
   ]
  },
  {
   "cell_type": "code",
   "execution_count": 1,
   "id": "92838dda",
   "metadata": {},
   "outputs": [],
   "source": [
    "import pickle\n",
    "import pandas as pd\n",
    "import vrme_lib"
   ]
  },
  {
   "cell_type": "markdown",
   "id": "ee7b1335",
   "metadata": {},
   "source": [
    "## Loading data from VRM-E notebook"
   ]
  },
  {
   "cell_type": "code",
   "execution_count": 2,
   "id": "f6bd7f77",
   "metadata": {},
   "outputs": [],
   "source": [
    "with open('significance_data_vrme.pkl', 'rb') as f:\n",
    "  vrme_objs = pickle.load(f)\n",
    "\n",
    "vrme_df_embeddings_2017 = vrme_objs['df_embeddings_2017']\n",
    "vrme_df_embeddings_2018 = vrme_objs['df_embeddings_2018']\n",
    "vrme_df_embeddings_2017['match_ave_rating'] = vrme_df_embeddings_2017.apply(lambda row: vrme_lib.lambda_get_match_potential_outcomes(row, vrme_df_embeddings_2018), axis =1)\n",
    "vrme_df_embeddings_2017['diff_2018_2017'] = vrme_df_embeddings_2017['match_ave_rating'] - vrme_df_embeddings_2017['AVG_rating']"
   ]
  },
  {
   "cell_type": "markdown",
   "id": "595c1c52",
   "metadata": {},
   "source": [
    "## Loading data from SPSM notebook"
   ]
  },
  {
   "cell_type": "code",
   "execution_count": 3,
   "id": "4125962a",
   "metadata": {},
   "outputs": [],
   "source": [
    "with open('significance_data_spsm.pkl', 'rb') as f:\n",
    "  vrme_objs = pickle.load(f)\n",
    "\n",
    "df_paper_strata = vrme_objs['df_paper_strata']"
   ]
  },
  {
   "cell_type": "markdown",
   "id": "d935473e",
   "metadata": {},
   "source": [
    "# VRM-E v/s Naive\n",
    "\n",
    "\n",
    "Step 1: Generate bootstrap samples from 2017 data\n",
    "\n",
    "Step 2: Get ATC from bootstrap samples for VRM-E\n",
    "\n",
    "Step 3: Get ATC for naive bootstrap: Average(Boot_strap 2017 samples) - Average(2018 Empirical Samples\n",
    "\n",
    "Step 4: Follow figure 1 from https://aclanthology.org/D12-1091.pdf\n",
    "\n",
    "Delta(Bootstrap) = ATC_VRM-E(Bootstrap) - ATC_naive(Boostrap)\n",
    "\n",
    "Delta(X) = ATC_VRM-E  - ATC_Naive = -0.17 - -0.25 = 0.08"
   ]
  },
  {
   "cell_type": "code",
   "execution_count": 4,
   "id": "b17dec5e",
   "metadata": {},
   "outputs": [
    {
     "name": "stdout",
     "output_type": "stream",
     "text": [
      "P-Value for VRM-E vs Naive is:  0.0\n"
     ]
    }
   ],
   "source": [
    "average_rating_2018 = vrme_df_embeddings_2018.AVG_rating.mean()\n",
    "delta_x = 0.08\n",
    "s = 0\n",
    "B = 5000\n",
    "for n in range(B):\n",
    "    bootstrap_sample = vrme_df_embeddings_2017.sample(n=vrme_df_embeddings_2017.shape[0], replace = True, random_state=n)\n",
    "    ATC_VRM_E = bootstrap_sample.diff_2018_2017.mean()\n",
    "\n",
    "    ATC_Naive = average_rating_2018 - bootstrap_sample.AVG_rating.mean()\n",
    "\n",
    "    delta_bootstrap = ATC_VRM_E - ATC_Naive\n",
    "\n",
    "    if delta_bootstrap > 2*delta_x:\n",
    "        s += 1\n",
    "\n",
    "print('P-Value for VRM-E vs Naive is: ',s/B)"
   ]
  },
  {
   "cell_type": "markdown",
   "id": "4145092e",
   "metadata": {},
   "source": [
    "# VRM-E v/s SPSM\n",
    "\n",
    "Step 1: Generate bootstrap samples from 2017 data\n",
    "\n",
    "Step 2: Get ATC from bootstrap samples for VRM-E\n",
    "\n",
    "Step 3: Get ATC for naive bootstrap: Average(Boot_strap 2017 samples) - Average(2018 Empirical Samples\n",
    "\n",
    "Step 4: Follow figure 1 from https://aclanthology.org/D12-1091.pdf\n",
    "\n",
    "Delta(Bootstrap) = ATC_VRM-E(Bootstrap) - ATC_SPSM(Boostrap)\n",
    "\n",
    "Delta(X) = ATC_VRM-E  - ATC_SPSM = -0.17 - -0.26 = 0.09"
   ]
  },
  {
   "cell_type": "code",
   "execution_count": 5,
   "id": "6d70653d",
   "metadata": {},
   "outputs": [
    {
     "name": "stdout",
     "output_type": "stream",
     "text": [
      "P-Value for VRM-E vs SPSM is:  0.0\n"
     ]
    }
   ],
   "source": [
    "#data processing to get the propensity and strata\n",
    "vrme_df_embeddings_2017 = pd.merge(vrme_df_embeddings_2017, df_paper_strata[df_paper_strata['treatment']==1][['paper_id','pscore','strata','treatment']], on='paper_id')\n",
    "\n",
    "delta_x2 = 0.09\n",
    "s2 = 0\n",
    "B2 = 5000\n",
    "\n",
    "for n in range(B2):\n",
    "    bootstrap_sample = vrme_df_embeddings_2017.sample(n=vrme_df_embeddings_2017.shape[0], replace = True, random_state=n)\n",
    "    ATC_VRM_E = bootstrap_sample.diff_2018_2017.mean()\n",
    "\n",
    "    strata_2_weight = bootstrap_sample[(bootstrap_sample['strata'] ==2) & (bootstrap_sample['treatment'] ==1)].shape[0]/490\n",
    "    strata_3_weight = bootstrap_sample[(bootstrap_sample['strata'] ==3) & (bootstrap_sample['treatment'] ==1)].shape[0]/490\n",
    "    strata_4_weight = bootstrap_sample[(bootstrap_sample['strata'] ==4) & (bootstrap_sample['treatment'] ==1)].shape[0]/490\n",
    "\n",
    "    strat_2_treated = bootstrap_sample[(bootstrap_sample['strata'] ==2) & (bootstrap_sample['treatment'] ==1)]['AVG_rating'].mean()\n",
    "    strat_2_control = df_paper_strata[(df_paper_strata['strata'] ==2) & (df_paper_strata['treatment'] ==0)]['AVG_rating'].mean()\n",
    "\n",
    "\n",
    "    strat_3_treated = bootstrap_sample[(bootstrap_sample['strata'] ==3) & (bootstrap_sample['treatment'] ==1)]['AVG_rating'].mean()\n",
    "    strat_3_control = df_paper_strata[(df_paper_strata['strata'] ==3) & (df_paper_strata['treatment'] ==0)]['AVG_rating'].mean()\n",
    "\n",
    "    strat_4_treated = bootstrap_sample[(bootstrap_sample['strata'] ==4) & (bootstrap_sample['treatment'] ==1)]['AVG_rating'].mean()\n",
    "    strat_4_control = df_paper_strata[(df_paper_strata['strata'] ==4) & (df_paper_strata['treatment'] ==0)]['AVG_rating'].mean()\n",
    "\n",
    "\n",
    "\n",
    "    ATC_SPSM = (strat_4_treated - strat_4_control)* strata_4_weight + (strat_3_treated - strat_3_control)* strata_3_weight + (strat_2_treated - strat_2_control)* strata_2_weight\n",
    "    #treatment and control were flipped for SPSM procedure\n",
    "    ATC_SPSM = -ATC_SPSM\n",
    "\n",
    "    delta_bootstrap = ATC_VRM_E - ATC_SPSM\n",
    "\n",
    "    if delta_bootstrap > 2 * delta_x2:\n",
    "        s2 += 1\n",
    "    \n",
    "print('P-Value for VRM-E vs SPSM is: ',s2/B2)"
   ]
  },
  {
   "cell_type": "code",
   "execution_count": null,
   "id": "284144ee",
   "metadata": {},
   "outputs": [],
   "source": []
  }
 ],
 "metadata": {
  "kernelspec": {
   "display_name": "Python 3 (ipykernel)",
   "language": "python",
   "name": "python3"
  },
  "language_info": {
   "codemirror_mode": {
    "name": "ipython",
    "version": 3
   },
   "file_extension": ".py",
   "mimetype": "text/x-python",
   "name": "python",
   "nbconvert_exporter": "python",
   "pygments_lexer": "ipython3",
   "version": "3.8.16"
  }
 },
 "nbformat": 4,
 "nbformat_minor": 5
}
