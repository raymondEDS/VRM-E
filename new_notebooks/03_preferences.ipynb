{
 "cells": [
  {
   "cell_type": "markdown",
   "id": "c5b15bf1",
   "metadata": {},
   "source": [
    "# Imports"
   ]
  },
  {
   "cell_type": "code",
   "execution_count": 1,
   "id": "89e2c236",
   "metadata": {},
   "outputs": [],
   "source": [
    "import collections\n",
    "import pandas as pd\n",
    "from nltk import agreement\n",
    "import scipy.stats as stats\n",
    "\n",
    "import vrme_lib"
   ]
  },
  {
   "cell_type": "markdown",
   "id": "98dd0f82",
   "metadata": {},
   "source": [
    "# Performance"
   ]
  },
  {
   "cell_type": "code",
   "execution_count": 11,
   "id": "8b129082",
   "metadata": {},
   "outputs": [
    {
     "name": "stdout",
     "output_type": "stream",
     "text": [
      "VRM-E 212 69.97%\n",
      "SPSM 53 17.49%\n",
      "naive 38 12.54%\n",
      "\n",
      "T-Test: naive vs VRM-E\n",
      "statistic: -10.75\n",
      "p-value: 2.5121072302919953e-18\n",
      "\n",
      "T-Test: SPSM vs VRM-E\n",
      "statistic: -8.733\n",
      "p-value: 6.306465360934115e-14\n",
      "\n"
     ]
    }
   ],
   "source": [
    "#checking for evaulation results\n",
    "df_labeled = pd.read_csv('../data/evaulation_data/evaluation_set_with_labels_DONT_LOOK.csv')\n",
    "\n",
    "rating_dfs = {}\n",
    "\n",
    "for initials in \"RZ KK NK\".split():\n",
    "  rating_dfs[initials] = pd.read_csv(f'../data/evaulation_data/Title_Evaluation_Final_{initials}.csv')[['unique_id','Rating']]\n",
    "\n",
    "\n",
    "df_label_rated = df_labeled.merge(rating_dfs['RZ'], on = 'unique_id').merge(rating_dfs['NK'], on = 'unique_id').merge(rating_dfs['KK'], on = 'unique_id')\n",
    "df_label_rated['rating_sum'] = df_label_rated[['Rating_x','Rating_y','Rating']].sum(axis = 1)\n",
    "\n",
    "\n",
    "df_label_rated['rating_percentage'] = df_label_rated['rating_sum']/303 # 300 + 3 ties\n",
    "df_performance = df_label_rated[['method','rating_sum','rating_percentage']].groupby('method').sum()\n",
    "\n",
    "\n",
    "for row in df_performance.itertuples():\n",
    "  print(row.Index.replace(\"KNN\", 'VRM-E'), row.rating_sum, f'{row.rating_percentage:.2%}')\n",
    "print()\n",
    "\n",
    "method_lists = {\n",
    "  method:df_label_rated[df_label_rated['method']==method][['rating_sum']].rating_sum.tolist() for method in 'SPSM KNN naive'.split() \n",
    "}\n",
    "\n",
    "naive_vrme_ttest = stats.ttest_rel(method_lists['naive'], method_lists['KNN']) # VRM-E was called KNN in in the annotation process\n",
    "spsm_vrme_ttest = stats.ttest_rel(method_lists['SPSM'], method_lists['KNN'])\n",
    "vrme_lib.print_ttest(\"naive\", naive_vrme_ttest)\n",
    "vrme_lib.print_ttest(\"SPSM\", spsm_vrme_ttest)"
   ]
  },
  {
   "cell_type": "markdown",
   "id": "c2845fd4",
   "metadata": {},
   "source": [
    "# Inter-rater reliability"
   ]
  },
  {
   "cell_type": "code",
   "execution_count": 12,
   "id": "921a363f",
   "metadata": {},
   "outputs": [
    {
     "name": "stdout",
     "output_type": "stream",
     "text": [
      "Table 8\n",
      "kappa 0.5621\n",
      "fleiss 0.5622\n",
      "alpha 0.5627\n",
      "scotts 0.5622\n"
     ]
    }
   ],
   "source": [
    "rater1 = df_label_rated.Rating_x.tolist()\n",
    "rater2 = df_label_rated.Rating_y.tolist()\n",
    "rater3 = df_label_rated.Rating.tolist()\n",
    "\n",
    "taskdata=[[0,str(i),str(rater1[i])] for i in range(0,len(rater1))]+[[1,str(i),str(rater2[i])] for i in range(0,len(rater2))]+[[2,str(i),str(rater3[i])] for i in range(0,len(rater3))]\n",
    "ratingtask = agreement.AnnotationTask(data=taskdata)\n",
    "\n",
    "\n",
    "print('Table 8')\n",
    "print(f'kappa {ratingtask.kappa():.4}')\n",
    "print(f'fleiss {ratingtask.multi_kappa():.4}')\n",
    "print(f'alpha {ratingtask.alpha():.4}')\n",
    "print(f'scotts {ratingtask.pi():.4}')"
   ]
  }
 ],
 "metadata": {
  "kernelspec": {
   "display_name": "Python 3 (ipykernel)",
   "language": "python",
   "name": "python3"
  },
  "language_info": {
   "codemirror_mode": {
    "name": "ipython",
    "version": 3
   },
   "file_extension": ".py",
   "mimetype": "text/x-python",
   "name": "python",
   "nbconvert_exporter": "python",
   "pygments_lexer": "ipython3",
   "version": "3.8.16"
  }
 },
 "nbformat": 4,
 "nbformat_minor": 5
}
