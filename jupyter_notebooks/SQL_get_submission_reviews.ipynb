{
 "cells": [
  {
   "cell_type": "code",
   "execution_count": 3,
   "id": "af5fd64f",
   "metadata": {},
   "outputs": [],
   "source": [
    "import pandas as pd\n",
    "import numpy as np\n",
    "import datetime as date\n",
    "import os\n",
    "import tqdm\n",
    "import ast\n",
    "import json\n",
    "import sqlite3"
   ]
  },
  {
   "cell_type": "code",
   "execution_count": 4,
   "id": "952928cd",
   "metadata": {},
   "outputs": [],
   "source": [
    "con = sqlite3.connect(\"../data/database/ICLR.db\")"
   ]
  },
  {
   "cell_type": "code",
   "execution_count": 12,
   "id": "fe440152",
   "metadata": {},
   "outputs": [],
   "source": [
    "query = '''\n",
    "SELECT\n",
    "    AVG(CAST(reviews.rating_int as demcial)) AS AVG_rating,\n",
    "    COUNT(reviews.id) as NUM_Reviews,\n",
    "    submissions.*\n",
    "    \n",
    "FROM reviews\n",
    "JOIN submissions ON reviews.forum = submissions.id\n",
    "WHERE submissions.conf_year in (2017,2018)\n",
    "GROUP BY submissions.id\n",
    "'''\n",
    "\n",
    "df_submission = pd.read_sql_query(query,con)"
   ]
  },
  {
   "cell_type": "code",
   "execution_count": 25,
   "id": "7dcd8a50",
   "metadata": {},
   "outputs": [
    {
     "data": {
      "text/plain": [
       "(910, 16)"
      ]
     },
     "execution_count": 25,
     "metadata": {},
     "output_type": "execute_result"
    }
   ],
   "source": [
    "df_submission[df_submission['conf_year'] == '2018'].shape"
   ]
  },
  {
   "cell_type": "code",
   "execution_count": 24,
   "id": "b97619bb",
   "metadata": {},
   "outputs": [
    {
     "data": {
      "text/plain": [
       "(490, 16)"
      ]
     },
     "execution_count": 24,
     "metadata": {},
     "output_type": "execute_result"
    }
   ],
   "source": [
    "df_submission[df_submission['conf_year'] == '2017'].shape"
   ]
  },
  {
   "cell_type": "code",
   "execution_count": 23,
   "id": "e926d552",
   "metadata": {},
   "outputs": [
    {
     "data": {
      "text/plain": [
       "(0, 16)"
      ]
     },
     "execution_count": 23,
     "metadata": {},
     "output_type": "execute_result"
    }
   ],
   "source": [
    "df_submission[df_submission['AVG_rating'].isna()].shape"
   ]
  },
  {
   "cell_type": "code",
   "execution_count": 21,
   "id": "02282b7a",
   "metadata": {},
   "outputs": [
    {
     "data": {
      "text/plain": [
       "{'ry5wc1bCW'}"
      ]
     },
     "execution_count": 21,
     "metadata": {},
     "output_type": "execute_result"
    }
   ],
   "source": [
    "query2 = '''\n",
    "SELECT\n",
    "    submissions.*\n",
    "    \n",
    "FROM submissions\n",
    "WHERE submissions.conf_year in (2017,2018)\n",
    "'''\n",
    "\n",
    "a = set(pd.read_sql_query(query2,con).id.tolist())\n",
    "b = df_submission.id.tolist()\n",
    "\n",
    "a.symmetric_difference(set(b))\n",
    "\n",
    "#this paper was rejected from the conference b/c of dual submission."
   ]
  },
  {
   "cell_type": "code",
   "execution_count": 22,
   "id": "7e1bddb2",
   "metadata": {},
   "outputs": [],
   "source": [
    "df_submission.to_csv('../data/database/outputs/df_submission_rating.csv',index=False)"
   ]
  }
 ],
 "metadata": {
  "kernelspec": {
   "display_name": "Python 3 (ipykernel)",
   "language": "python",
   "name": "python3"
  },
  "language_info": {
   "codemirror_mode": {
    "name": "ipython",
    "version": 3
   },
   "file_extension": ".py",
   "mimetype": "text/x-python",
   "name": "python",
   "nbconvert_exporter": "python",
   "pygments_lexer": "ipython3",
   "version": "3.10.4"
  }
 },
 "nbformat": 4,
 "nbformat_minor": 5
}
