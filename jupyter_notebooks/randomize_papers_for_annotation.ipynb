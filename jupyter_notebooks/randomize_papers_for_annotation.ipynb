{
 "cells": [
  {
   "cell_type": "code",
   "execution_count": 1,
   "id": "0ac8b6d1",
   "metadata": {},
   "outputs": [],
   "source": [
    "import pandas as pd\n",
    "import ast\n",
    "import random\n",
    "import uuid"
   ]
  },
  {
   "cell_type": "code",
   "execution_count": 2,
   "id": "b6b3e752",
   "metadata": {},
   "outputs": [],
   "source": [
    "rand_state =60"
   ]
  },
  {
   "cell_type": "code",
   "execution_count": 3,
   "id": "d88a9691",
   "metadata": {},
   "outputs": [],
   "source": [
    "df_cluster = pd.read_csv('df_cluster_results_10_match_cosine_23.csv')\n",
    "df_SPSM = pd.read_csv('df_SPSM_results.csv')\n",
    "df_2018_titles = pd.read_csv('naive_titles_2018.csv')"
   ]
  },
  {
   "cell_type": "code",
   "execution_count": 4,
   "id": "e1201aee",
   "metadata": {},
   "outputs": [],
   "source": [
    "#data cleaning\n",
    "#turn string representation of list to list datatype\n",
    "df_cluster['lst_2018_titles'] = df_cluster.titles_2018.apply(lambda x: ast.literal_eval(x))\n",
    "df_cluster['lst_2018_id'] = df_cluster.id_2018.apply(lambda x: ast.literal_eval(x))"
   ]
  },
  {
   "cell_type": "code",
   "execution_count": 5,
   "id": "990ae554",
   "metadata": {},
   "outputs": [],
   "source": [
    "#data check\n",
    "assert len(df_cluster.lst_2018_titles[rand_state]) == len(df_cluster.lst_2018_id[rand_state]) "
   ]
  },
  {
   "cell_type": "markdown",
   "id": "77a171db",
   "metadata": {},
   "source": [
    "# Generate 100 2017 samples"
   ]
  },
  {
   "cell_type": "code",
   "execution_count": 10,
   "id": "9285cb87",
   "metadata": {},
   "outputs": [],
   "source": [
    "#generate a sample of 100 2017 ICLR papers\n",
    "\n",
    "sample_2017_id = df_cluster.sample(n=100, replace=False,random_state = rand_state).paper_id.to_list()"
   ]
  },
  {
   "cell_type": "code",
   "execution_count": 11,
   "id": "5e8410eb",
   "metadata": {},
   "outputs": [],
   "source": [
    "assert len(set(sample_2017_id)) == 100"
   ]
  },
  {
   "cell_type": "markdown",
   "id": "1ca79dd5",
   "metadata": {},
   "source": [
    "# Generate Samples of KNN matching"
   ]
  },
  {
   "cell_type": "code",
   "execution_count": 12,
   "id": "7b3c749a",
   "metadata": {},
   "outputs": [],
   "source": [
    "#get sample of 2018 titles from KNN matching\n",
    "\n",
    "data_knn = []\n",
    "for n in range(len(sample_2017_id)):\n",
    "    '''We take each 2017 title from the sampled data, and sample 1 of the 2018 matches for each 2017 paper'''\n",
    "    \n",
    "    \n",
    "    knn_df = df_cluster[df_cluster['paper_id'] == sample_2017_id[n]]\n",
    "    input_row = {}\n",
    "    in_loop_random_state = rand_state + n\n",
    "    #we set the random seed here for chosing which 2018 paper that is matched with 2017 through KNN\n",
    "    random.seed(in_loop_random_state)\n",
    "    sample = random.choice(knn_df.lst_2018_id.values[0])\n",
    "    #print(knn_df.lst_2018_id.values[0])\n",
    "    #check to see if paper exist in the KNN method\n",
    "    assert df_cluster[df_cluster['paper_id'] == sample_2017_id[n]].id_2018.str.contains(sample).values[0]\n",
    "    \n",
    "    input_row['id_2017'] = sample_2017_id[n]\n",
    "    input_row['id_2018'] = sample\n",
    "    input_row['method'] = 'KNN'\n",
    "    input_row['unique_id'] = str(uuid.uuid4())\n",
    "    input_row['random_state'] = in_loop_random_state\n",
    "    data_knn.append(input_row)\n",
    "    \n",
    "df_sample_knn = pd.DataFrame(data_knn)"
   ]
  },
  {
   "cell_type": "code",
   "execution_count": 13,
   "id": "c0327886",
   "metadata": {},
   "outputs": [],
   "source": [
    "#check to see if we got the all the 2017 papers from the samples\n",
    "assert df_sample_knn.shape[0] == 100\n",
    "assert df_sample_knn[df_sample_knn['id_2017'].isin(sample_2017_id)].shape[0] == 100 \n",
    "assert len(set(df_sample_knn.id_2017.to_list())) == 100"
   ]
  },
  {
   "cell_type": "markdown",
   "id": "729779db",
   "metadata": {},
   "source": [
    "# Generate Samples of Naive Method"
   ]
  },
  {
   "cell_type": "code",
   "execution_count": 14,
   "id": "c4a33afa",
   "metadata": {},
   "outputs": [],
   "source": [
    "#randomly selecting 100 samples from 2018 naive method\n",
    "\n",
    "lst_2018_sample_naive = df_2018_titles[df_2018_titles['conf_year'] == 2018].sample(n = 100 ,replace=False,random_state = rand_state).paper_id.to_list()\n",
    "lst_2018_uniqu_id = [str(uuid.uuid4()) for n in range(100)]\n",
    "data_naive = {'id_2017':sample_2017_id,\n",
    "              'id_2018':lst_2018_sample_naive,\n",
    "              'method':['naive']*100,\n",
    "              'unique_id':lst_2018_uniqu_id,\n",
    "              'random_state':[rand_state] * 100\n",
    "             }\n",
    "\n",
    "df_sample_naive  = pd.DataFrame(data_naive)"
   ]
  },
  {
   "cell_type": "code",
   "execution_count": 15,
   "id": "457acaae",
   "metadata": {},
   "outputs": [],
   "source": [
    "#check to see if we got the all the 2017 papers from the samples\n",
    "assert df_sample_naive.shape[0] == 100\n",
    "assert df_sample_naive[df_sample_naive['id_2017'].isin(sample_2017_id)].shape[0] == 100 \n",
    "assert len(set(df_sample_naive.id_2017.to_list())) == 100"
   ]
  },
  {
   "cell_type": "markdown",
   "id": "15209891",
   "metadata": {},
   "source": [
    "# Generate Samples of SPSM"
   ]
  },
  {
   "cell_type": "code",
   "execution_count": 16,
   "id": "d36776fe",
   "metadata": {},
   "outputs": [],
   "source": [
    "#We first need to get the strata from each \n",
    "\n",
    "dict_strata_count = df_SPSM[df_SPSM['paper_id'].isin(sample_2017_id)].groupby(['strata'])['paper_id'].count().to_dict()\n",
    "\n",
    "df_sample_SPSM = pd.DataFrame(columns = ['id_2017','id_2018','method','unique_id','random_state'])\n",
    "for strata, count in dict_strata_count.items():\n",
    "    input_row ={}\n",
    "    loop_random_state = rand_state + 100\n",
    "    titles_2017_SPSM = df_SPSM[(df_SPSM['paper_id'].isin(sample_2017_id)) & (df_SPSM['strata']==strata)].paper_id.to_list()\n",
    "    titles_2018_SPSM = df_SPSM[(df_SPSM['treatment']==0) & (df_SPSM['strata'] == strata)].sample(n=count,replace=False,random_state = loop_random_state).paper_id.to_list()\n",
    "    \n",
    "    assert (len(titles_2018_SPSM) == count) & (len(titles_2017_SPSM) == count) & (df_SPSM[df_SPSM['paper_id'].isin(titles_2018_SPSM)].conf_year.mean()==2018)\n",
    "    lst_2018_uniqu_id = [str(uuid.uuid4()) for n in range(count)]\n",
    "    \n",
    "    data_SPSM = {'id_2017':titles_2017_SPSM,\n",
    "                  'id_2018':titles_2018_SPSM,\n",
    "                  'method':['SPSM']*count,\n",
    "                  'unique_id':lst_2018_uniqu_id,\n",
    "                  'random_state':[rand_state + 100] * count\n",
    "                 }\n",
    "    \n",
    "    df_sample_SPSM = pd.concat([df_sample_SPSM,pd.DataFrame(data_SPSM)],ignore_index=True)    "
   ]
  },
  {
   "cell_type": "code",
   "execution_count": 17,
   "id": "ee4c8e18",
   "metadata": {},
   "outputs": [],
   "source": [
    "#check for errors\n",
    "\n",
    "assert df_sample_SPSM.shape[0] == 100\n",
    "\n",
    "#check to see if papers are from 2018\n",
    "assert df_sample_SPSM.merge(df_SPSM,left_on='id_2018',right_on='paper_id').treatment.mean() == 0\n",
    "\n",
    "#check to see if we got the right strata distribution\n",
    "assert df_sample_SPSM.merge(df_SPSM,left_on='id_2018',right_on='paper_id').groupby(['strata'])['id_2018'].count().to_dict() == dict_strata_count\n",
    "\n",
    "#check to see if we got the all the 2017 papers from the samples\n",
    "assert df_sample_SPSM[df_sample_SPSM['id_2017'].isin(sample_2017_id)].shape[0] == 100 \n",
    "assert len(set(df_sample_SPSM.id_2017.to_list())) == 100"
   ]
  },
  {
   "cell_type": "markdown",
   "id": "82185ee2",
   "metadata": {},
   "source": [
    "# Making final evaluation set"
   ]
  },
  {
   "cell_type": "code",
   "execution_count": 18,
   "id": "9481a51b",
   "metadata": {},
   "outputs": [
    {
     "data": {
      "text/plain": [
       "method\n",
       "KNN      100\n",
       "SPSM     100\n",
       "naive    100\n",
       "Name: unique_id, dtype: int64"
      ]
     },
     "execution_count": 18,
     "metadata": {},
     "output_type": "execute_result"
    }
   ],
   "source": [
    "#check for errors\n",
    "df_all_methods_sample = pd.concat([df_sample_SPSM,df_sample_naive,df_sample_knn])\n",
    "df_all_methods_sample.groupby(['method'])['unique_id'].count()"
   ]
  },
  {
   "cell_type": "code",
   "execution_count": 19,
   "id": "8b674ac7",
   "metadata": {},
   "outputs": [],
   "source": [
    "df_all_paper_titles_and_id = pd.concat([df_cluster[['paper_id','title']],df_2018_titles[['paper_id','title']]])"
   ]
  },
  {
   "cell_type": "code",
   "execution_count": 20,
   "id": "7e17ee13",
   "metadata": {},
   "outputs": [],
   "source": [
    "#turn paper_id into actual titles\n",
    "def get_titles(row):\n",
    "    title_2017 = df_all_paper_titles_and_id[df_all_paper_titles_and_id['paper_id']==row.id_2017].title.values[0]\n",
    "    title_2018 = df_all_paper_titles_and_id[df_all_paper_titles_and_id['paper_id']==row.id_2018].title.values[0]\n",
    "    return title_2017,title_2018\n",
    "\n",
    "df_all_methods_sample[['title_2017','title_2018']] = df_all_methods_sample.apply(lambda x: get_titles(x),axis = 1,result_type='expand')"
   ]
  },
  {
   "cell_type": "code",
   "execution_count": 21,
   "id": "7b50f244",
   "metadata": {},
   "outputs": [],
   "source": [
    "#check for errors\n",
    "\n",
    "#see if we got all the 2017 papers\n",
    "assert sorted(df_cluster.sample(n=100, replace=False,random_state = rand_state).title.to_list()) == sorted(list(set(df_all_methods_sample.title_2017.to_list())))\n",
    "\n",
    "#see if we got all the 2018 papers\n",
    "assert df_2018_titles[df_2018_titles['title'].isin(list(set(df_all_methods_sample.title_2018.to_list())))].shape[0] == len(list(set(df_all_methods_sample.title_2018.to_list())))"
   ]
  },
  {
   "cell_type": "code",
   "execution_count": 22,
   "id": "9bbdea31",
   "metadata": {},
   "outputs": [],
   "source": [
    "df_evaluation_data_with_labels_DONT_LOOK = df_all_methods_sample.sample(n=300,replace=False,random_state=rand_state)\n",
    "\n",
    "df_evaluation_data_with_labels_DONT_LOOK = df_evaluation_data_with_labels_DONT_LOOK.sort_values(by=['title_2017'])"
   ]
  },
  {
   "cell_type": "code",
   "execution_count": 23,
   "id": "ea34d30b",
   "metadata": {},
   "outputs": [],
   "source": [
    "df_evaluation_data_no_labels = df_evaluation_data_with_labels_DONT_LOOK[['unique_id','title_2017','title_2018']]"
   ]
  },
  {
   "cell_type": "code",
   "execution_count": 24,
   "id": "dd0c72b3",
   "metadata": {},
   "outputs": [],
   "source": [
    "df_evaluation_data_with_labels_DONT_LOOK.to_csv('evaluation_set_with_labels_DONT_LOOK.csv',index=False)\n",
    "df_evaluation_data_no_labels.to_csv('evaluation_set.csv',index=False)"
   ]
  },
  {
   "cell_type": "markdown",
   "id": "30363d46",
   "metadata": {},
   "source": [
    "# Read in data to reveal method labels"
   ]
  },
  {
   "cell_type": "code",
   "execution_count": 512,
   "id": "c75de16b",
   "metadata": {},
   "outputs": [],
   "source": [
    "#this is just the pseudo code\n",
    "#pd.read_csv('test.csv',header=None).rename(columns={0:'unique_id'}).merge(pd.read_csv('test_labels.csv'), on='unique_id')"
   ]
  }
 ],
 "metadata": {
  "kernelspec": {
   "display_name": "Python 3 (ipykernel)",
   "language": "python",
   "name": "python3"
  },
  "language_info": {
   "codemirror_mode": {
    "name": "ipython",
    "version": 3
   },
   "file_extension": ".py",
   "mimetype": "text/x-python",
   "name": "python",
   "nbconvert_exporter": "python",
   "pygments_lexer": "ipython3",
   "version": "3.10.4"
  }
 },
 "nbformat": 4,
 "nbformat_minor": 5
}
